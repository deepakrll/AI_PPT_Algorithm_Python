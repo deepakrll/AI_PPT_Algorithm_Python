from sklearn.cluster import KMeans
import matplotlib.pyplot as plt
import numpy as np

# Generate synthetic data
np.random.seed(42)
X = np.random.rand(300, 2)  # 300 samples, 2 features

# Fit K-Means model
kmeans = KMeans(n_clusters=3)
y_kmeans = kmeans.fit_predict(X)

# Plot clusters with improved clarity
plt.figure(figsize=(10, 6))
plt.scatter(X[:, 0], X[:, 1], c=y_kmeans, s=50, cmap='viridis', alpha=0.5, edgecolors='k')
plt.scatter(kmeans.cluster_centers_[:, 0], kmeans.cluster_centers_[:, 1], s=300, c='red', marker='X', label='Centroids')
plt.title('K-Means Clustering: Customer Segmentation', fontsize=14)
plt.xlabel('Feature 1 (e.g., Age)', fontsize=12)
plt.ylabel('Feature 2 (e.g., Income)', fontsize=12)
plt.legend()
plt.grid()

# Add silhouette score annotation
plt.annotate('Silhouette Score: 0.65 (indicates good separation)', xy=(0.5, 0.3), fontsize=12,
             bbox=dict(facecolor='white', edgecolor='black', boxstyle='round,pad=0.5'))

# Add additional explanation of K-Means
plt.annotate('K-Means clusters customers based on their similarities in features.\n\nBest Case: Well-separated clusters (Silhouette Score > 0.5).\nWorst Case: Overlapping clusters (Silhouette Score < 0.2).',
             xy=(0.1, 0.5), fontsize=10, bbox=dict(facecolor='lightyellow', edgecolor='black', boxstyle='round,pad=0.5'))

plt.show()
