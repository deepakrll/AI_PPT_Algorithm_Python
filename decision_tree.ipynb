from sklearn.tree import DecisionTreeClassifier
from sklearn import tree
import matplotlib.pyplot as plt

# Create synthetic data
X = np.array([[1, 2], [1, 3], [2, 3], [5, 6], [6, 5], [7, 7]])
y = np.array([0, 0, 0, 1, 1, 1])  # Labels

# Fit Decision Tree
clf = DecisionTreeClassifier()
clf.fit(X, y)

# Plot Decision Tree with feature importance
plt.figure(figsize=(12, 8))  # Increased figure size for better clarity
tree.plot_tree(clf, filled=True, feature_names=['Feature 1', 'Feature 2'], class_names=['Low Spend', 'High Spend'], fontsize=12)
plt.title('Decision Tree for Customer Classification', fontsize=14)

# Add feature importance annotation
feature_importance = clf.feature_importances_
plt.annotate(f'Feature Importance:\nFeature 1: {feature_importance[0]:.2f}\nFeature 2: {feature_importance[1]:.2f}',
             xy=(0.5, 0.1), fontsize=12, bbox=dict(facecolor='lightyellow', edgecolor='black', boxstyle='round,pad=0.5'))

plt.show()
