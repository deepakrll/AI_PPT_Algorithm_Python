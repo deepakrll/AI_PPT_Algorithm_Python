import matplotlib.pyplot as plt
import numpy as np
from sklearn.linear_model import LinearRegression

# Generate synthetic data
np.random.seed(0)
X = np.random.rand(100, 1) * 10  # Feature: age
y = 3 * X.squeeze() + np.random.randn(100) * 5  # Target: spending

# Create linear regression model
model = LinearRegression()
model.fit(X, y)
predictions = model.predict(X)

# Plot with annotations
plt.figure(figsize=(10, 6))
plt.scatter(X, y, color='blue', label='Actual Spending')
plt.plot(X, predictions, color='red', label='Predicted Spending', linewidth=2)
plt.title('Linear Regression: Predicting Customer Spending')
plt.xlabel('Age')
plt.ylabel('Customer Spending')
plt.legend()
plt.grid()

# Annotate R² and MSE
r_squared = model.score(X, y)
mse = np.mean((predictions - y) ** 2)
plt.annotate(f'R² = {r_squared:.2f}\nMSE = {mse:.2f}', xy=(7, 25), fontsize=12,
             bbox=dict(facecolor='white', edgecolor='black', boxstyle='round,pad=0.5'))

plt.show()
