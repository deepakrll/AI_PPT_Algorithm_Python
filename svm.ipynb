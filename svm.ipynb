import matplotlib.pyplot as plt
import numpy as np
from sklearn import svm

# Create synthetic data
X = np.array([[1, 2], [2, 3], [3, 1], [6, 5], [7, 6], [8, 5]])
y = np.array([0, 0, 0, 1, 1, 1])  # 0: low spenders, 1: high spenders

# Fit SVM model
model = svm.SVC(kernel='linear')
model.fit(X, y)

# Create grid for visualization
xx, yy = np.meshgrid(np.arange(0, 10, 0.1), np.arange(0, 10, 0.1))
Z = model.decision_function(np.c_[xx.ravel(), yy.ravel()])
Z = Z.reshape(xx.shape)

# Plot
plt.figure(figsize=(10, 6))
plt.contourf(xx, yy, Z, alpha=0.8, cmap='coolwarm')
plt.scatter(X[:, 0], X[:, 1], c=y, edgecolors='k', marker='o', s=100)
plt.title('SVM Decision Boundary for Customer Classification')
plt.xlabel('Feature 1 (e.g., Age)')
plt.ylabel('Feature 2 (e.g., Income)')

# Add explanatory annotations
plt.annotate('Class 0: Low Spenders', xy=(2, 2), fontsize=12, bbox=dict(facecolor='white', edgecolor='black', boxstyle='round,pad=0.5'))
plt.annotate('Class 1: High Spenders', xy=(7, 6), fontsize=12, bbox=dict(facecolor='white', edgecolor='black', boxstyle='round,pad=0.5'))

plt.colorbar()
plt.show()
