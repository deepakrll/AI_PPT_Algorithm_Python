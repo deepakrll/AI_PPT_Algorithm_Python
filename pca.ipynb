from sklearn.decomposition import PCA
import matplotlib.pyplot as plt

# Generate synthetic data
np.random.seed(0)
X = np.random.rand(100, 5)  # 100 samples, 5-dimensional data

# Fit PCA model
pca = PCA(n_components=2)
X_pca = pca.fit_transform(X)

# Plot PCA results
plt.figure(figsize=(10, 6))
plt.scatter(X_pca[:, 0], X_pca[:, 1], alpha=0.7)
plt.title('PCA: Dimensionality Reduction', fontsize=14)
plt.xlabel('Principal Component 1', fontsize=12)
plt.ylabel('Principal Component 2', fontsize=12)

# Add variance explanation annotation
plt.annotate(f'Variance Explained by PC1: {pca.explained_variance_ratio_[0]:.2f}\nVariance Explained by PC2: {pca.explained_variance_ratio_[1]:.2f}',
             xy=(-3, -3), fontsize=12, bbox=dict(facecolor='lightyellow', edgecolor='black', boxstyle='round,pad=0.5'))

plt.grid()
plt.show()
