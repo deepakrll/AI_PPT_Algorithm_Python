import matplotlib.pyplot as plt
from matplotlib_venn import venn2

plt.figure(figsize=(8, 6))
venn = venn2(subsets=(1, 1, 1), set_labels=('Supervised Learning', 'Unsupervised Learning'))

# Add additional informative text
venn.get_label_by_id('10').set_text('Uses labeled data\n(e.g., sales data with labels)')
venn.get_label_by_id('01').set_text('Uses unlabeled data\n(e.g., customer features)')
venn.get_label_by_id('11').set_text('Common techniques include\nclassification & clustering\nused in various fields')

plt.title('Supervised vs. Unsupervised Learning')
plt.show()
